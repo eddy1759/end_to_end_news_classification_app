{
 "cells": [
  {
   "cell_type": "code",
   "execution_count": 1,
   "metadata": {},
   "outputs": [],
   "source": [
    "import datasist as ds\n",
    "import pandas as pd\n",
    "import seaborn as sns\n",
    "import matplotlib.pyplot as plt\n",
    "import path\n",
    "import os\n",
    "%matplotlib inline\n",
    "\n",
    "import warnings\n",
    "def ignore_warning(*args,**kwargs):\n",
    "    pass\n",
    "warnings.warn = ignore_warning"
   ]
  },
  {
   "cell_type": "code",
   "execution_count": 2,
   "metadata": {},
   "outputs": [],
   "source": [
    "path_ = r\"C:\\Users\\EDET\\Desktop\\programming\\DEployments\\news\\news_classification\\data\\raw\"\n",
    "train_path = os.path.join(path_,\"BBC News Train.csv\")\n",
    "test_path = os.path.join(path_, \"BBC News Test.csv\")\n",
    "train = pd.read_csv(train_path)\n",
    "test = pd.read_csv(test_path)"
   ]
  },
  {
   "cell_type": "code",
   "execution_count": 3,
   "metadata": {},
   "outputs": [
    {
     "name": "stdout",
     "output_type": "stream",
     "text": [
      "First five data points\n"
     ]
    },
    {
     "data": {
      "text/html": [
       "<div>\n",
       "<style scoped>\n",
       "    .dataframe tbody tr th:only-of-type {\n",
       "        vertical-align: middle;\n",
       "    }\n",
       "\n",
       "    .dataframe tbody tr th {\n",
       "        vertical-align: top;\n",
       "    }\n",
       "\n",
       "    .dataframe thead th {\n",
       "        text-align: right;\n",
       "    }\n",
       "</style>\n",
       "<table border=\"1\" class=\"dataframe\">\n",
       "  <thead>\n",
       "    <tr style=\"text-align: right;\">\n",
       "      <th></th>\n",
       "      <th>ArticleId</th>\n",
       "      <th>Text</th>\n",
       "      <th>Category</th>\n",
       "    </tr>\n",
       "  </thead>\n",
       "  <tbody>\n",
       "    <tr>\n",
       "      <th>0</th>\n",
       "      <td>1833</td>\n",
       "      <td>worldcom ex-boss launches defence lawyers defe...</td>\n",
       "      <td>business</td>\n",
       "    </tr>\n",
       "    <tr>\n",
       "      <th>1</th>\n",
       "      <td>154</td>\n",
       "      <td>german business confidence slides german busin...</td>\n",
       "      <td>business</td>\n",
       "    </tr>\n",
       "    <tr>\n",
       "      <th>2</th>\n",
       "      <td>1101</td>\n",
       "      <td>bbc poll indicates economic gloom citizens in ...</td>\n",
       "      <td>business</td>\n",
       "    </tr>\n",
       "    <tr>\n",
       "      <th>3</th>\n",
       "      <td>1976</td>\n",
       "      <td>lifestyle  governs mobile choice  faster  bett...</td>\n",
       "      <td>tech</td>\n",
       "    </tr>\n",
       "    <tr>\n",
       "      <th>4</th>\n",
       "      <td>917</td>\n",
       "      <td>enron bosses in $168m payout eighteen former e...</td>\n",
       "      <td>business</td>\n",
       "    </tr>\n",
       "  </tbody>\n",
       "</table>\n",
       "</div>"
      ],
      "text/plain": [
       "   ArticleId                                               Text  Category\n",
       "0       1833  worldcom ex-boss launches defence lawyers defe...  business\n",
       "1        154  german business confidence slides german busin...  business\n",
       "2       1101  bbc poll indicates economic gloom citizens in ...  business\n",
       "3       1976  lifestyle  governs mobile choice  faster  bett...      tech\n",
       "4        917  enron bosses in $168m payout eighteen former e...  business"
      ]
     },
     "metadata": {},
     "output_type": "display_data"
    },
    {
     "name": "stdout",
     "output_type": "stream",
     "text": [
      "\n",
      "\n",
      "Random five data points\n"
     ]
    },
    {
     "data": {
      "text/html": [
       "<div>\n",
       "<style scoped>\n",
       "    .dataframe tbody tr th:only-of-type {\n",
       "        vertical-align: middle;\n",
       "    }\n",
       "\n",
       "    .dataframe tbody tr th {\n",
       "        vertical-align: top;\n",
       "    }\n",
       "\n",
       "    .dataframe thead th {\n",
       "        text-align: right;\n",
       "    }\n",
       "</style>\n",
       "<table border=\"1\" class=\"dataframe\">\n",
       "  <thead>\n",
       "    <tr style=\"text-align: right;\">\n",
       "      <th></th>\n",
       "      <th>ArticleId</th>\n",
       "      <th>Text</th>\n",
       "      <th>Category</th>\n",
       "    </tr>\n",
       "  </thead>\n",
       "  <tbody>\n",
       "    <tr>\n",
       "      <th>1241</th>\n",
       "      <td>1150</td>\n",
       "      <td>berlin applauds hotel rwanda political thrille...</td>\n",
       "      <td>entertainment</td>\n",
       "    </tr>\n",
       "    <tr>\n",
       "      <th>855</th>\n",
       "      <td>1410</td>\n",
       "      <td>tsunami debt deal to be announced chancellor g...</td>\n",
       "      <td>politics</td>\n",
       "    </tr>\n",
       "    <tr>\n",
       "      <th>577</th>\n",
       "      <td>1559</td>\n",
       "      <td>wenger shock at newcastle dip arsenal manager ...</td>\n",
       "      <td>sport</td>\n",
       "    </tr>\n",
       "    <tr>\n",
       "      <th>483</th>\n",
       "      <td>47</td>\n",
       "      <td>jamieson issues warning to bigots scotland s j...</td>\n",
       "      <td>politics</td>\n",
       "    </tr>\n",
       "    <tr>\n",
       "      <th>906</th>\n",
       "      <td>571</td>\n",
       "      <td>us actor  found with gun residue  actor robert...</td>\n",
       "      <td>entertainment</td>\n",
       "    </tr>\n",
       "  </tbody>\n",
       "</table>\n",
       "</div>"
      ],
      "text/plain": [
       "      ArticleId                                               Text  \\\n",
       "1241       1150  berlin applauds hotel rwanda political thrille...   \n",
       "855        1410  tsunami debt deal to be announced chancellor g...   \n",
       "577        1559  wenger shock at newcastle dip arsenal manager ...   \n",
       "483          47  jamieson issues warning to bigots scotland s j...   \n",
       "906         571  us actor  found with gun residue  actor robert...   \n",
       "\n",
       "           Category  \n",
       "1241  entertainment  \n",
       "855        politics  \n",
       "577           sport  \n",
       "483        politics  \n",
       "906   entertainment  "
      ]
     },
     "metadata": {},
     "output_type": "display_data"
    },
    {
     "name": "stdout",
     "output_type": "stream",
     "text": [
      "\n",
      "\n",
      "Last five data points\n"
     ]
    },
    {
     "data": {
      "text/html": [
       "<div>\n",
       "<style scoped>\n",
       "    .dataframe tbody tr th:only-of-type {\n",
       "        vertical-align: middle;\n",
       "    }\n",
       "\n",
       "    .dataframe tbody tr th {\n",
       "        vertical-align: top;\n",
       "    }\n",
       "\n",
       "    .dataframe thead th {\n",
       "        text-align: right;\n",
       "    }\n",
       "</style>\n",
       "<table border=\"1\" class=\"dataframe\">\n",
       "  <thead>\n",
       "    <tr style=\"text-align: right;\">\n",
       "      <th></th>\n",
       "      <th>ArticleId</th>\n",
       "      <th>Text</th>\n",
       "      <th>Category</th>\n",
       "    </tr>\n",
       "  </thead>\n",
       "  <tbody>\n",
       "    <tr>\n",
       "      <th>1485</th>\n",
       "      <td>857</td>\n",
       "      <td>double eviction from big brother model caprice...</td>\n",
       "      <td>entertainment</td>\n",
       "    </tr>\n",
       "    <tr>\n",
       "      <th>1486</th>\n",
       "      <td>325</td>\n",
       "      <td>dj double act revamp chart show dj duo jk and ...</td>\n",
       "      <td>entertainment</td>\n",
       "    </tr>\n",
       "    <tr>\n",
       "      <th>1487</th>\n",
       "      <td>1590</td>\n",
       "      <td>weak dollar hits reuters revenues at media gro...</td>\n",
       "      <td>business</td>\n",
       "    </tr>\n",
       "    <tr>\n",
       "      <th>1488</th>\n",
       "      <td>1587</td>\n",
       "      <td>apple ipod family expands market apple has exp...</td>\n",
       "      <td>tech</td>\n",
       "    </tr>\n",
       "    <tr>\n",
       "      <th>1489</th>\n",
       "      <td>538</td>\n",
       "      <td>santy worm makes unwelcome visit thousands of ...</td>\n",
       "      <td>tech</td>\n",
       "    </tr>\n",
       "  </tbody>\n",
       "</table>\n",
       "</div>"
      ],
      "text/plain": [
       "      ArticleId                                               Text  \\\n",
       "1485        857  double eviction from big brother model caprice...   \n",
       "1486        325  dj double act revamp chart show dj duo jk and ...   \n",
       "1487       1590  weak dollar hits reuters revenues at media gro...   \n",
       "1488       1587  apple ipod family expands market apple has exp...   \n",
       "1489        538  santy worm makes unwelcome visit thousands of ...   \n",
       "\n",
       "           Category  \n",
       "1485  entertainment  \n",
       "1486  entertainment  \n",
       "1487       business  \n",
       "1488           tech  \n",
       "1489           tech  "
      ]
     },
     "metadata": {},
     "output_type": "display_data"
    },
    {
     "name": "stdout",
     "output_type": "stream",
     "text": [
      "\n",
      "\n",
      "Shape of  data set: (1490, 3)\n",
      "\n",
      "\n",
      "Size of  data set: 4470\n",
      "\n",
      "\n",
      "Data Types\n",
      "Note: All Non-numerical features are identified as objects in pandas\n"
     ]
    },
    {
     "data": {
      "text/html": [
       "<div>\n",
       "<style scoped>\n",
       "    .dataframe tbody tr th:only-of-type {\n",
       "        vertical-align: middle;\n",
       "    }\n",
       "\n",
       "    .dataframe tbody tr th {\n",
       "        vertical-align: top;\n",
       "    }\n",
       "\n",
       "    .dataframe thead th {\n",
       "        text-align: right;\n",
       "    }\n",
       "</style>\n",
       "<table border=\"1\" class=\"dataframe\">\n",
       "  <thead>\n",
       "    <tr style=\"text-align: right;\">\n",
       "      <th></th>\n",
       "      <th>Data Type</th>\n",
       "    </tr>\n",
       "  </thead>\n",
       "  <tbody>\n",
       "    <tr>\n",
       "      <th>ArticleId</th>\n",
       "      <td>int64</td>\n",
       "    </tr>\n",
       "    <tr>\n",
       "      <th>Text</th>\n",
       "      <td>object</td>\n",
       "    </tr>\n",
       "    <tr>\n",
       "      <th>Category</th>\n",
       "      <td>object</td>\n",
       "    </tr>\n",
       "  </tbody>\n",
       "</table>\n",
       "</div>"
      ],
      "text/plain": [
       "          Data Type\n",
       "ArticleId     int64\n",
       "Text         object\n",
       "Category     object"
      ]
     },
     "metadata": {},
     "output_type": "display_data"
    },
    {
     "name": "stdout",
     "output_type": "stream",
     "text": [
      "\n",
      "\n",
      "Numerical Features in Data set\n",
      "['ArticleId']\n",
      "\n",
      "\n",
      "Categorical Features in Data set\n"
     ]
    },
    {
     "data": {
      "text/plain": [
       "['Text', 'Category']"
      ]
     },
     "metadata": {},
     "output_type": "display_data"
    },
    {
     "name": "stdout",
     "output_type": "stream",
     "text": [
      "\n",
      "\n",
      "Statistical Description of Columns\n"
     ]
    },
    {
     "data": {
      "text/html": [
       "<div>\n",
       "<style scoped>\n",
       "    .dataframe tbody tr th:only-of-type {\n",
       "        vertical-align: middle;\n",
       "    }\n",
       "\n",
       "    .dataframe tbody tr th {\n",
       "        vertical-align: top;\n",
       "    }\n",
       "\n",
       "    .dataframe thead th {\n",
       "        text-align: right;\n",
       "    }\n",
       "</style>\n",
       "<table border=\"1\" class=\"dataframe\">\n",
       "  <thead>\n",
       "    <tr style=\"text-align: right;\">\n",
       "      <th></th>\n",
       "      <th>ArticleId</th>\n",
       "    </tr>\n",
       "  </thead>\n",
       "  <tbody>\n",
       "    <tr>\n",
       "      <th>count</th>\n",
       "      <td>1490.000000</td>\n",
       "    </tr>\n",
       "    <tr>\n",
       "      <th>mean</th>\n",
       "      <td>1119.696644</td>\n",
       "    </tr>\n",
       "    <tr>\n",
       "      <th>std</th>\n",
       "      <td>641.826283</td>\n",
       "    </tr>\n",
       "    <tr>\n",
       "      <th>min</th>\n",
       "      <td>2.000000</td>\n",
       "    </tr>\n",
       "    <tr>\n",
       "      <th>25%</th>\n",
       "      <td>565.250000</td>\n",
       "    </tr>\n",
       "    <tr>\n",
       "      <th>50%</th>\n",
       "      <td>1112.500000</td>\n",
       "    </tr>\n",
       "    <tr>\n",
       "      <th>75%</th>\n",
       "      <td>1680.750000</td>\n",
       "    </tr>\n",
       "    <tr>\n",
       "      <th>max</th>\n",
       "      <td>2224.000000</td>\n",
       "    </tr>\n",
       "  </tbody>\n",
       "</table>\n",
       "</div>"
      ],
      "text/plain": [
       "         ArticleId\n",
       "count  1490.000000\n",
       "mean   1119.696644\n",
       "std     641.826283\n",
       "min       2.000000\n",
       "25%     565.250000\n",
       "50%    1112.500000\n",
       "75%    1680.750000\n",
       "max    2224.000000"
      ]
     },
     "metadata": {},
     "output_type": "display_data"
    },
    {
     "name": "stdout",
     "output_type": "stream",
     "text": [
      "\n",
      "\n",
      "Description of Categorical Features\n"
     ]
    },
    {
     "data": {
      "text/html": [
       "<div>\n",
       "<style scoped>\n",
       "    .dataframe tbody tr th:only-of-type {\n",
       "        vertical-align: middle;\n",
       "    }\n",
       "\n",
       "    .dataframe tbody tr th {\n",
       "        vertical-align: top;\n",
       "    }\n",
       "\n",
       "    .dataframe thead th {\n",
       "        text-align: right;\n",
       "    }\n",
       "</style>\n",
       "<table border=\"1\" class=\"dataframe\">\n",
       "  <thead>\n",
       "    <tr style=\"text-align: right;\">\n",
       "      <th></th>\n",
       "      <th>count</th>\n",
       "      <th>unique</th>\n",
       "      <th>top</th>\n",
       "      <th>freq</th>\n",
       "    </tr>\n",
       "  </thead>\n",
       "  <tbody>\n",
       "    <tr>\n",
       "      <th>Text</th>\n",
       "      <td>1490</td>\n",
       "      <td>1440</td>\n",
       "      <td>microsoft seeking spyware trojan microsoft is ...</td>\n",
       "      <td>2</td>\n",
       "    </tr>\n",
       "    <tr>\n",
       "      <th>Category</th>\n",
       "      <td>1490</td>\n",
       "      <td>5</td>\n",
       "      <td>sport</td>\n",
       "      <td>346</td>\n",
       "    </tr>\n",
       "  </tbody>\n",
       "</table>\n",
       "</div>"
      ],
      "text/plain": [
       "         count unique                                                top freq\n",
       "Text      1490   1440  microsoft seeking spyware trojan microsoft is ...    2\n",
       "Category  1490      5                                              sport  346"
      ]
     },
     "metadata": {},
     "output_type": "display_data"
    },
    {
     "name": "stdout",
     "output_type": "stream",
     "text": [
      "\n",
      "\n",
      "Unique class Count of Categorical features\n"
     ]
    },
    {
     "data": {
      "text/html": [
       "<style type=\"text/css\">\n",
       "#T_ce16a_row0_col1 {\n",
       "  width: 10em;\n",
       "  height: 80%;\n",
       "  background: linear-gradient(90deg,#d65f5f 100.0%, transparent 100.0%);\n",
       "}\n",
       "#T_ce16a_row1_col1 {\n",
       "  width: 10em;\n",
       "  height: 80%;\n",
       "  background: linear-gradient(90deg,#d65f5f 0.3%, transparent 0.3%);\n",
       "}\n",
       "</style>\n",
       "<table id=\"T_ce16a_\">\n",
       "  <thead>\n",
       "    <tr>\n",
       "      <th class=\"blank level0\" >&nbsp;</th>\n",
       "      <th class=\"col_heading level0 col0\" >Feature</th>\n",
       "      <th class=\"col_heading level0 col1\" >Unique Count</th>\n",
       "    </tr>\n",
       "  </thead>\n",
       "  <tbody>\n",
       "    <tr>\n",
       "      <th id=\"T_ce16a_level0_row0\" class=\"row_heading level0 row0\" >0</th>\n",
       "      <td id=\"T_ce16a_row0_col0\" class=\"data row0 col0\" >Text</td>\n",
       "      <td id=\"T_ce16a_row0_col1\" class=\"data row0 col1\" >1440</td>\n",
       "    </tr>\n",
       "    <tr>\n",
       "      <th id=\"T_ce16a_level0_row1\" class=\"row_heading level0 row1\" >1</th>\n",
       "      <td id=\"T_ce16a_row1_col0\" class=\"data row1 col0\" >Category</td>\n",
       "      <td id=\"T_ce16a_row1_col1\" class=\"data row1 col1\" >5</td>\n",
       "    </tr>\n",
       "  </tbody>\n",
       "</table>\n"
      ],
      "text/plain": [
       "<pandas.io.formats.style.Styler at 0xbef62b0348>"
      ]
     },
     "metadata": {},
     "output_type": "display_data"
    },
    {
     "name": "stdout",
     "output_type": "stream",
     "text": [
      "\n",
      "\n",
      "Missing Values in Data\n"
     ]
    },
    {
     "data": {
      "text/html": [
       "<div>\n",
       "<style scoped>\n",
       "    .dataframe tbody tr th:only-of-type {\n",
       "        vertical-align: middle;\n",
       "    }\n",
       "\n",
       "    .dataframe tbody tr th {\n",
       "        vertical-align: top;\n",
       "    }\n",
       "\n",
       "    .dataframe thead th {\n",
       "        text-align: right;\n",
       "    }\n",
       "</style>\n",
       "<table border=\"1\" class=\"dataframe\">\n",
       "  <thead>\n",
       "    <tr style=\"text-align: right;\">\n",
       "      <th></th>\n",
       "      <th>features</th>\n",
       "      <th>missing_counts</th>\n",
       "      <th>missing_percent</th>\n",
       "    </tr>\n",
       "  </thead>\n",
       "  <tbody>\n",
       "    <tr>\n",
       "      <th>0</th>\n",
       "      <td>ArticleId</td>\n",
       "      <td>0</td>\n",
       "      <td>0.0</td>\n",
       "    </tr>\n",
       "    <tr>\n",
       "      <th>1</th>\n",
       "      <td>Text</td>\n",
       "      <td>0</td>\n",
       "      <td>0.0</td>\n",
       "    </tr>\n",
       "    <tr>\n",
       "      <th>2</th>\n",
       "      <td>Category</td>\n",
       "      <td>0</td>\n",
       "      <td>0.0</td>\n",
       "    </tr>\n",
       "  </tbody>\n",
       "</table>\n",
       "</div>"
      ],
      "text/plain": [
       "    features  missing_counts  missing_percent\n",
       "0  ArticleId               0              0.0\n",
       "1       Text               0              0.0\n",
       "2   Category               0              0.0"
      ]
     },
     "metadata": {},
     "output_type": "display_data"
    }
   ],
   "source": [
    "ds.structdata.describe(train)"
   ]
  },
  {
   "cell_type": "code",
   "execution_count": 4,
   "metadata": {},
   "outputs": [],
   "source": [
    "train['category_id'] = train['Category'].factorize()[0]\n",
    "category_id = train[['Category', 'category_id']].drop_duplicates().sort_values('category_id')\n",
    "category_to_id = dict(category_id.values)\n",
    "id_to_category = dict(category_id[['category_id', 'Category']].values)"
   ]
  },
  {
   "cell_type": "code",
   "execution_count": 5,
   "metadata": {},
   "outputs": [
    {
     "data": {
      "text/plain": [
       "<AxesSubplot:xlabel='Category'>"
      ]
     },
     "execution_count": 5,
     "metadata": {},
     "output_type": "execute_result"
    },
    {
     "data": {
      "image/png": "[encoded data removed]",
      "text/plain": [
       "<Figure size 432x288 with 1 Axes>"
      ]
     },
     "metadata": {
      "needs_background": "light"
     },
     "output_type": "display_data"
    }
   ],
   "source": [
    "train.groupby('Category').category_id.count().plot.bar(ylim=0)"
   ]
  },
  {
   "cell_type": "code",
   "execution_count": 6,
   "metadata": {},
   "outputs": [
    {
     "data": {
      "text/plain": [
       "(1490, 9927)"
      ]
     },
     "execution_count": 6,
     "metadata": {},
     "output_type": "execute_result"
    }
   ],
   "source": [
    "from sklearn.feature_extraction.text import TfidfVectorizer\n",
    "\n",
    "tfidf = TfidfVectorizer(sublinear_tf=True, min_df=5, norm='l2', encoding='latin-1', ngram_range=(1, 2), stop_words='english')\n",
    "\n",
    "features = tfidf.fit_transform(train.Text).toarray()\n",
    "labels = train.category_id\n",
    "features.shape"
   ]
  },
  {
   "cell_type": "code",
   "execution_count": 7,
   "metadata": {},
   "outputs": [
    {
     "data": {
      "text/plain": [
       "(-0.5, 399.5, 199.5, -0.5)"
      ]
     },
     "execution_count": 7,
     "metadata": {},
     "output_type": "execute_result"
    },
    {
     "data": {
      "image/png": "[encoded data removed]",
      "text/plain": [
       "<Figure size 432x288 with 1 Axes>"
      ]
     },
     "metadata": {
      "needs_background": "light"
     },
     "output_type": "display_data"
    }
   ],
   "source": [
    "from wordcloud import WordCloud\n",
    "text = \" \".join(cat.split()[1] for cat in train.Text)\n",
    "word_cloud = WordCloud(collocations = False, background_color = 'white').generate(text)\n",
    "plt.imshow(word_cloud, interpolation='bilinear')\n",
    "plt.axis(\"off\")"
   ]
  },
  {
   "cell_type": "code",
   "execution_count": 8,
   "metadata": {},
   "outputs": [
    {
     "data": {
      "text/plain": [
       "<matplotlib.legend.Legend at 0xbef87cfb88>"
      ]
     },
     "execution_count": 8,
     "metadata": {},
     "output_type": "execute_result"
    },
    {
     "data": {
      "image/png": "[encoded data removed]",
      "text/plain": [
       "<Figure size 432x288 with 1 Axes>"
      ]
     },
     "metadata": {
      "needs_background": "light"
     },
     "output_type": "display_data"
    }
   ],
   "source": [
    "from sklearn.manifold import TSNE \n",
    "import numpy as np\n",
    "\n",
    "\n",
    "\n",
    "sample_size = int(len(features)*0.3)\n",
    "np.random.seed(7)\n",
    "indices = np.random.choice(range(len(features)), size=sample_size,replace=False)\n",
    "projected_features = TSNE(n_components=2,random_state=7).fit_transform(features[indices])\n",
    "colours = ['black','red','green','blue','darkgrey']\n",
    "for cat, cat_id in sorted(category_to_id.items()):\n",
    "    points = projected_features[(labels[indices] == cat_id).values]\n",
    "    plt.scatter(points[:,0],points[:,1],s=30,c=colours[cat_id],label=cat)\n",
    "plt.title(\"tf-idf feature vector for each article, projected on 2 dimensions.\",\n",
    "          fontdict=dict(fontsize=15))\n",
    "plt.legend()    \n"
   ]
  },
  {
   "cell_type": "markdown",
   "metadata": {},
   "source": [
    "We can clearly see that different article categories fall in different areas, which means that we should expect this problem to be easily solvable, achieving good performance.\n"
   ]
  },
  {
   "cell_type": "markdown",
   "metadata": {},
   "source": [
    "# Data Preprocessing"
   ]
  },
  {
   "cell_type": "code",
   "execution_count": 9,
   "metadata": {},
   "outputs": [],
   "source": [
    "from sklearn.model_selection import train_test_split\n",
    "from sklearn.model_selection import cross_val_score"
   ]
  },
  {
   "cell_type": "code",
   "execution_count": 10,
   "metadata": {},
   "outputs": [
    {
     "data": {
      "text/plain": [
       "'\\n\\nfrom tensorflow import keras\\nfrom keras.preprocessing.text import text_to_word_sequence\\nfrom nltk.corpus import stopwords\\nfrom nltk.stem import PorterStemmer\\nfrom nltk import word_tokenize\\nfrom nltk import pos_tag\\nfrom nltk.stem import WordNetLemmatizer\\nfrom nltk.corpus import wordnet\\nfrom sklearn.feature_extraction.text import TfidfVectorizer\\nfrom sklearn.feature_extraction.text import TfidfTransformer\\nfrom sklearn.feature_extraction.text import CountVectorizer\\n\\ndef preprocess_data(text):\\n  [receives text as input and preprocessed using different nlp preprocessing\\n    methods and return a processed text]\\n\\n    Args:\\n        text ([str]): [this is the input parameter in string format]\\n\\n    return:\\n        processed text    \\n \\n\\n    #word tokenization using text-to-word-sequence\\n    text = str(text)\\n    tokenized_train_set = text_to_word_sequence(text,filters=\\'!\"#$%&()*+,-./:;<=>?@[\\\\]^_`{|}~\\t\\n\\',\\n                                            lower=True,split=\" \")\\n\\n    #stop word removal\\n    stop_words = set(stopwords.words(\"english\"))\\n    remove_stopword = [i for i in tokenized_train_set if not i in stop_words]\\n\\n    #join words into sentence\\n    remove_stopword_text = \" \".join(remove_stopword)\\n\\n    #remove numbers\\n    remove_number_text = \"\".join(i for i in remove_stopword_text if not i.isdigit())\\n\\n    #Stemming\\n    stemmer = PorterStemmer()\\n\\n    stem_input = word_tokenize(remove_number_text)\\n    stem_text = \" \".join([stemmer.stem(word) for word in stem_input])\\n\\n    lemmatizer = WordNetLemmatizer()\\n\\n    def get_wordnet_pos(word):\\n        [Map POS tag to first character lemmatize() accepts]\\n\\n        Args:\\n            word ([str])\\n      \\n\\n        tag = pos_tag([word])[0][1][0].upper()\\n        tag_dict = {\\n            \"J\": wordnet.ADJ,\\n            \"N\": wordnet.NOUN, \\n            \"V\": wordnet.VERB, \\n            \"R\": wordnet.ADV\\n        }\\n        return tag_dict.get(tag, wordnet.NOUN)\\n\\n    lem_input = word_tokenize(stem_text)\\n    lem_text = \" \".join([lemmatizer.lemmatize(w, get_wordnet_pos(w)) for w in lem_input])\\n\\n\\n    return lem_text    \\n\\n\\n\\n'"
      ]
     },
     "execution_count": 10,
     "metadata": {},
     "output_type": "execute_result"
    }
   ],
   "source": [
    "\"\"\"\n",
    "\n",
    "from tensorflow import keras\n",
    "from keras.preprocessing.text import text_to_word_sequence\n",
    "from nltk.corpus import stopwords\n",
    "from nltk.stem import PorterStemmer\n",
    "from nltk import word_tokenize\n",
    "from nltk import pos_tag\n",
    "from nltk.stem import WordNetLemmatizer\n",
    "from nltk.corpus import wordnet\n",
    "from sklearn.feature_extraction.text import TfidfVectorizer\n",
    "from sklearn.feature_extraction.text import TfidfTransformer\n",
    "from sklearn.feature_extraction.text import CountVectorizer\n",
    "\n",
    "def preprocess_data(text):\n",
    "  [receives text as input and preprocessed using different nlp preprocessing\n",
    "    methods and return a processed text]\n",
    "\n",
    "    Args:\n",
    "        text ([str]): [this is the input parameter in string format]\n",
    "\n",
    "    return:\n",
    "        processed text    \n",
    " \n",
    "\n",
    "    #word tokenization using text-to-word-sequence\n",
    "    text = str(text)\n",
    "    tokenized_train_set = text_to_word_sequence(text,filters='!\"#$%&()*+,-./:;<=>?@[\\\\]^_`{|}~\\t\\n',\n",
    "                                            lower=True,split=\" \")\n",
    "\n",
    "    #stop word removal\n",
    "    stop_words = set(stopwords.words(\"english\"))\n",
    "    remove_stopword = [i for i in tokenized_train_set if not i in stop_words]\n",
    "\n",
    "    #join words into sentence\n",
    "    remove_stopword_text = \" \".join(remove_stopword)\n",
    "\n",
    "    #remove numbers\n",
    "    remove_number_text = \"\".join(i for i in remove_stopword_text if not i.isdigit())\n",
    "\n",
    "    #Stemming\n",
    "    stemmer = PorterStemmer()\n",
    "\n",
    "    stem_input = word_tokenize(remove_number_text)\n",
    "    stem_text = \" \".join([stemmer.stem(word) for word in stem_input])\n",
    "\n",
    "    lemmatizer = WordNetLemmatizer()\n",
    "\n",
    "    def get_wordnet_pos(word):\n",
    "        [Map POS tag to first character lemmatize() accepts]\n",
    "\n",
    "        Args:\n",
    "            word ([str])\n",
    "      \n",
    "\n",
    "        tag = pos_tag([word])[0][1][0].upper()\n",
    "        tag_dict = {\n",
    "            \"J\": wordnet.ADJ,\n",
    "            \"N\": wordnet.NOUN, \n",
    "            \"V\": wordnet.VERB, \n",
    "            \"R\": wordnet.ADV\n",
    "        }\n",
    "        return tag_dict.get(tag, wordnet.NOUN)\n",
    "\n",
    "    lem_input = word_tokenize(stem_text)\n",
    "    lem_text = \" \".join([lemmatizer.lemmatize(w, get_wordnet_pos(w)) for w in lem_input])\n",
    "\n",
    "\n",
    "    return lem_text    \n",
    "\n",
    "\n",
    "\n",
    "\"\"\""
   ]
  },
  {
   "cell_type": "code",
   "execution_count": 11,
   "metadata": {},
   "outputs": [],
   "source": [
    "#train[\"Text\"] = train['Text'].apply(preprocess_data)\n",
    "#text = train['Text']\n",
    "#category = train['Category']"
   ]
  },
  {
   "cell_type": "code",
   "execution_count": 12,
   "metadata": {},
   "outputs": [],
   "source": [
    "from sklearn.naive_bayes import MultinomialNB\n",
    "from sklearn.naive_bayes import GaussianNB\n",
    "from sklearn.ensemble import RandomForestClassifier\n",
    "from sklearn.linear_model import LogisticRegression\n",
    "from sklearn import svm\n",
    "\n",
    "from sklearn.metrics import roc_auc_score\n",
    "from sklearn.pipeline import Pipeline\n",
    "from sklearn.metrics import classification_report\n",
    "from sklearn.metrics import accuracy_score"
   ]
  },
  {
   "cell_type": "code",
   "execution_count": 13,
   "metadata": {},
   "outputs": [],
   "source": [
    "def get_models():\n",
    "    models, names = list(), list()\n",
    "    models.append(MultinomialNB())    \n",
    "    names.append('MNB')\n",
    "    models.append(GaussianNB())\n",
    "    names.append('GNB')\n",
    "    #models.append(svm.SVC())\n",
    "    #names.append('SVM')\n",
    "    models.append(RandomForestClassifier())    \n",
    "    names.append('RFC')\n",
    "    models.append(LogisticRegression())    \n",
    "    names.append('LR')\n",
    "    return models, names \n",
    "\n",
    "\n",
    "def evaluate_model(X, y, model,cv=5):\n",
    "    accuracies = cross_val_score(model, X, y, scoring='accuracy', cv=cv, n_jobs=-1)\n",
    "    return accuracies"
   ]
  },
  {
   "cell_type": "code",
   "execution_count": 14,
   "metadata": {},
   "outputs": [
    {
     "data": {
      "text/plain": [
       "\"models, names = get_models()\\nCV=5\\ncv_df = pd.DataFrame(index=range(CV * len(models)))\\nentries= []\\n                     \\nfor i in range(len(models)):   \\n    accuracies = evaluate_model(Xtrain, ytrain, models[i])\\n    for fold_idx, accuracy in enumerate(accuracies):\\n        entries.append((names, fold_idx, accuracy))\\ncv_df = pd.DataFrame(entries, columns=['model_name', 'fold_idx', 'accuracy'])\\n\\n\""
      ]
     },
     "execution_count": 14,
     "metadata": {},
     "output_type": "execute_result"
    }
   ],
   "source": [
    "\"\"\"models, names = get_models()\n",
    "CV=5\n",
    "cv_df = pd.DataFrame(index=range(CV * len(models)))\n",
    "entries= []\n",
    "                     \n",
    "for i in range(len(models)):   \n",
    "    accuracies = evaluate_model(Xtrain, ytrain, models[i])\n",
    "    for fold_idx, accuracy in enumerate(accuracies):\n",
    "        entries.append((names, fold_idx, accuracy))\n",
    "cv_df = pd.DataFrame(entries, columns=['model_name', 'fold_idx', 'accuracy'])\n",
    "\n",
    "\"\"\" "
   ]
  },
  {
   "cell_type": "code",
   "execution_count": 16,
   "metadata": {},
   "outputs": [
    {
     "name": "stdout",
     "output_type": "stream",
     "text": [
      ">MNB 0.972 (0.008)\n",
      ">GNB 0.958 (0.016)\n",
      ">RFC 0.952 (0.018)\n",
      ">LR 0.975 (0.007)\n"
     ]
    },
    {
     "data": {
      "image/png": "[encoded data removed]",
      "text/plain": [
       "<Figure size 432x288 with 1 Axes>"
      ]
     },
     "metadata": {
      "needs_background": "light"
     },
     "output_type": "display_data"
    }
   ],
   "source": [
    "models, names = get_models()\n",
    "CV=10\n",
    "cv_df = pd.DataFrame(index=range(CV * len(models)))\n",
    "entries= []\n",
    "                     \n",
    "for i in range(len(models)):   \n",
    "    accuracies = evaluate_model(features, labels, models[i])\n",
    "    entries.append(accuracies)\n",
    "    print('>%s %.3f (%.3f)' % (names[i], np.mean(accuracies), np.std(accuracies)))\n",
    "# plot the results\n",
    "plt.boxplot(entries, labels=names, showmeans=True)\n",
    "plt.show()"
   ]
  },
  {
   "cell_type": "markdown",
   "metadata": {},
   "source": [
    "### 4. Model interpretation\n",
    "\n",
    "It is insufficient to have a model that performs well according to a given metric: we must also have a model that we can understand and whose results we can explain.\n",
    "\n",
    "We will start by training our model on part of the dataset, and then analyze the main sources of misclassification on the test set. One way to eliminate sources of error is to look at the confusion matrix, a matrix used to show the discrepancies between predicted and actual labels."
   ]
  },
  {
   "cell_type": "code",
   "execution_count": 17,
   "metadata": {},
   "outputs": [],
   "source": [
    "model = LogisticRegression(random_state=0)\n",
    "\n",
    "X_train, X_test, y_train, y_test, indices_train, indices_test = train_test_split(features, labels, train.index, test_size=0.3, random_state=1)\n",
    "model.fit(X_train, y_train)\n",
    "y_pred = model.predict(X_test)"
   ]
  },
  {
   "cell_type": "code",
   "execution_count": 18,
   "metadata": {},
   "outputs": [
    {
     "data": {
      "text/plain": [
       "Text(0.5, 15.0, 'Predicted')"
      ]
     },
     "execution_count": 18,
     "metadata": {},
     "output_type": "execute_result"
    },
    {
     "data": {
      "image/png": "[encoded data removed]",
      "text/plain": [
       "<Figure size 432x288 with 2 Axes>"
      ]
     },
     "metadata": {
      "needs_background": "light"
     },
     "output_type": "display_data"
    }
   ],
   "source": [
    "from sklearn.metrics import confusion_matrix\n",
    "\n",
    "conf_mat = confusion_matrix(y_test, y_pred)\n",
    "sns.heatmap(conf_mat, annot=True, fmt='d',\n",
    "            xticklabels=category_id['Category'].values, yticklabels=category_id['Category'].values)\n",
    "plt.ylabel('Actual')\n",
    "plt.xlabel('Predicted')"
   ]
  },
  {
   "cell_type": "markdown",
   "metadata": {},
   "source": [
    "Given the extremely high accuracy of our model, the vast majority of the predictions end up on the diagonal (predicted label = actual label), where we want them to be! However, there are a number of misclassifications"
   ]
  },
  {
   "cell_type": "markdown",
   "metadata": {},
   "source": [
    "As can be seen above, the misclassified articles are articles that touch on different subjects (for example, articles involving both politics and business) and might hence even be missclassified by humans. This sort of errors will always happen, and it is unrealistic to aim for a model that achieves 100% accuracy.\n",
    "\n",
    "We can also look deeper inside the model and how it works, by finding which terms contribute the most to a document being classified in each of the categories:"
   ]
  },
  {
   "cell_type": "code",
   "execution_count": 19,
   "metadata": {},
   "outputs": [
    {
     "name": "stdout",
     "output_type": "stream",
     "text": [
      "# 'business':\n",
      "  . Top unigrams:\n",
      "       . firm\n",
      "       . bank\n",
      "       . company\n",
      "       . shares\n",
      "       . market\n",
      "  . Top bigrams:\n",
      "       . chief executive\n",
      "       . analysts said\n",
      "       . stock market\n",
      "       . economic growth\n",
      "       . oil prices\n",
      "# 'entertainment':\n",
      "  . Top unigrams:\n",
      "       . film\n",
      "       . music\n",
      "       . singer\n",
      "       . star\n",
      "       . band\n",
      "  . Top bigrams:\n",
      "       . box office\n",
      "       . los angeles\n",
      "       . film festival\n",
      "       . new york\n",
      "       . big brother\n",
      "# 'politics':\n",
      "  . Top unigrams:\n",
      "       . labour\n",
      "       . mr\n",
      "       . party\n",
      "       . election\n",
      "       . government\n",
      "  . Top bigrams:\n",
      "       . mr blair\n",
      "       . prime minister\n",
      "       . tony blair\n",
      "       . general election\n",
      "       . mr brown\n",
      "# 'sport':\n",
      "  . Top unigrams:\n",
      "       . match\n",
      "       . win\n",
      "       . game\n",
      "       . coach\n",
      "       . cup\n",
      "  . Top bigrams:\n",
      "       . year old\n",
      "       . australian open\n",
      "       . champions league\n",
      "       . world cup\n",
      "       . grand slam\n",
      "# 'tech':\n",
      "  . Top unigrams:\n",
      "       . users\n",
      "       . software\n",
      "       . computer\n",
      "       . technology\n",
      "       . online\n",
      "  . Top bigrams:\n",
      "       . said mr\n",
      "       . news website\n",
      "       . bbc news\n",
      "       . mobile phone\n",
      "       . mobile phones\n"
     ]
    }
   ],
   "source": [
    "from sklearn.feature_selection import chi2\n",
    "model.fit(features, labels)\n",
    "N = 5\n",
    "for category, category_id in sorted(category_to_id.items()):\n",
    "    indices = np.argsort(model.coef_[category_id])\n",
    "    feature_names = np.array(tfidf.get_feature_names())[indices]\n",
    "    unigrams = [v for v in reversed(feature_names) if len(v.split(' ')) == 1][:N]\n",
    "    bigrams = [v for v in reversed(feature_names) if len(v.split(' ')) == 2][:N]\n",
    "    print(\"# '{}':\".format(category))\n",
    "    print(\"  . Top unigrams:\\n       . {}\".format('\\n       . '.join(unigrams)))\n",
    "    print(\"  . Top bigrams:\\n       . {}\".format('\\n       . '.join(bigrams)))"
   ]
  },
  {
   "cell_type": "markdown",
   "metadata": {},
   "source": [
    "This seems consistent with the terms we would expect, with the exception of the \"tech\" category, where the bigrams **`\"bbc news\"`** and **`\"news website\"`** are some of the most predictive. We also see that the **`\"sport\"`** category includes **`\"bbc sport\"`** as one of the most predictive bigrams.\n",
    "\n",
    "This is confirmed by looking at the frequency of each category for articles containing **`\"news website\"`**:"
   ]
  },
  {
   "cell_type": "code",
   "execution_count": 22,
   "metadata": {},
   "outputs": [
    {
     "data": {
      "text/plain": [
       "tech             44\n",
       "entertainment     6\n",
       "politics          2\n",
       "business          1\n",
       "Name: Category, dtype: int64"
      ]
     },
     "execution_count": 22,
     "metadata": {},
     "output_type": "execute_result"
    }
   ],
   "source": [
    "train[train.Text.str.lower().str.contains('news website')].Category.value_counts()"
   ]
  },
  {
   "cell_type": "markdown",
   "metadata": {},
   "source": [
    "What is most likely happening is that the editorial style of the \"tech\" section is different, and often includes ther terms \"bbc news\" and \"news website\", in the same way the sports section includes \"bbc sport\".\n",
    "\n",
    "This is called a data leakage, which is when information about the label we want to predict is accidentally added to the training set. In this specific case, our model still works equally good when excluding the leaky terms, but it's always good to be skeptical when a model performs unexpectedly well, hence the need for interpretable model instead of black-boxes that might work very well on the test set, but fail on real data.\n",
    "\n",
    "For the record, we can also confirm that the model works well on data unrelated to the BBC, as can be seen in the examples below:"
   ]
  },
  {
   "cell_type": "code",
   "execution_count": 23,
   "metadata": {},
   "outputs": [
    {
     "name": "stdout",
     "output_type": "stream",
     "text": [
      "\"Hooli stock price soared after a dip in PiedPiper revenue growth.\"\n",
      "  - Predicted as: 'business'\n",
      "\n",
      "\"Captain Tsubasa scores a magnificent goal for the Japanese team.\"\n",
      "  - Predicted as: 'sport'\n",
      "\n",
      "\"Merryweather mercenaries are sent on another mission, as government oversight groups call for new sanctions.\"\n",
      "  - Predicted as: 'business'\n",
      "\n",
      "\"Beyoncé releases a new album, tops the charts in all of south-east Asia!\"\n",
      "  - Predicted as: 'entertainment'\n",
      "\n",
      "\"You won't guess what the latest trend in data analysis is!\"\n",
      "  - Predicted as: 'tech'\n",
      "\n"
     ]
    }
   ],
   "source": [
    "texts = [\"Hooli stock price soared after a dip in PiedPiper revenue growth.\",\n",
    "         \"Captain Tsubasa scores a magnificent goal for the Japanese team.\",\n",
    "         \"Merryweather mercenaries are sent on another mission, as government oversight groups call for new sanctions.\",\n",
    "         \"Beyoncé releases a new album, tops the charts in all of south-east Asia!\",\n",
    "         \"You won't guess what the latest trend in data analysis is!\"]\n",
    "text_features = tfidf.transform(texts)\n",
    "predictions = model.predict(text_features)\n",
    "for text, predicted in zip(texts, predictions):\n",
    "    print('\"{}\"'.format(text))\n",
    "    print(\"  - Predicted as: '{}'\".format(id_to_category[predicted]))\n",
    "    print(\"\")"
   ]
  },
  {
   "cell_type": "code",
   "execution_count": null,
   "metadata": {},
   "outputs": [],
   "source": []
  }
 ],
 "metadata": {
  "interpreter": {
   "hash": "163edc59e020c7942bfb23255405e84591bc57efefa34ddb9df43a5528eebe78"
  },
  "kernelspec": {
   "display_name": "Python 3",
   "language": "python",
   "name": "python3"
  },
  "language_info": {
   "codemirror_mode": {
    "name": "ipython",
    "version": 3
   },
   "file_extension": ".py",
   "mimetype": "text/x-python",
   "name": "python",
   "nbconvert_exporter": "python",
   "pygments_lexer": "ipython3",
   "version": "3.7.6"
  }
 },
 "nbformat": 4,
 "nbformat_minor": 2
}
