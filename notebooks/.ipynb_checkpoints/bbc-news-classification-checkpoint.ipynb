{
 "cells": [
  {
   "cell_type": "code",
   "execution_count": 1,
   "metadata": {
    "_cell_guid": "b1076dfc-b9ad-4769-8c92-a6c4dae69d19",
    "_uuid": "8f2839f25d086af736a60e9eeb907d3b93b6e0e5",
    "execution": {
     "iopub.execute_input": "2021-08-30T20:10:37.217855Z",
     "iopub.status.busy": "2021-08-30T20:10:37.216290Z",
     "iopub.status.idle": "2021-08-30T20:10:37.233246Z",
     "shell.execute_reply": "2021-08-30T20:10:37.234051Z",
     "shell.execute_reply.started": "2021-08-30T20:07:19.296919Z"
    },
    "papermill": {
     "duration": 0.048751,
     "end_time": "2021-08-30T20:10:37.234442",
     "exception": false,
     "start_time": "2021-08-30T20:10:37.185691",
     "status": "completed"
    },
    "tags": []
   },
   "outputs": [
    {
     "name": "stdout",
     "output_type": "stream",
     "text": [
      "/kaggle/input/learn-ai-bbc/BBC News Train.csv\n",
      "/kaggle/input/learn-ai-bbc/BBC News Sample Solution.csv\n",
      "/kaggle/input/learn-ai-bbc/BBC News Test.csv\n"
     ]
    }
   ],
   "source": [
    "# This Python 3 environment comes with many helpful analytics libraries installed\n",
    "# It is defined by the kaggle/python Docker image: https://github.com/kaggle/docker-python\n",
    "# For example, here's several helpful packages to load\n",
    "\n",
    "import numpy as np # linear algebra\n",
    "import pandas as pd # data processing, CSV file I/O (e.g. pd.read_csv)\n",
    "\n",
    "# Input data files are available in the read-only \"../input/\" directory\n",
    "# For example, running this (by clicking run or pressing Shift+Enter) will list all files under the input directory\n",
    "\n",
    "import os\n",
    "for dirname, _, filenames in os.walk('/kaggle/input'):\n",
    "    for filename in filenames:\n",
    "        print(os.path.join(dirname, filename))\n",
    "\n",
    "# You can write up to 20GB to the current directory (/kaggle/working/) that gets preserved as output when you create a version using \"Save & Run All\" \n",
    "# You can also write temporary files to /kaggle/temp/, but they won't be saved outside of the current session"
   ]
  },
  {
   "cell_type": "code",
   "execution_count": 2,
   "metadata": {
    "execution": {
     "iopub.execute_input": "2021-08-30T20:10:37.293887Z",
     "iopub.status.busy": "2021-08-30T20:10:37.293090Z",
     "iopub.status.idle": "2021-08-30T20:10:45.072695Z",
     "shell.execute_reply": "2021-08-30T20:10:45.072101Z",
     "shell.execute_reply.started": "2021-08-30T20:07:19.314534Z"
    },
    "papermill": {
     "duration": 7.807586,
     "end_time": "2021-08-30T20:10:45.072835",
     "exception": false,
     "start_time": "2021-08-30T20:10:37.265249",
     "status": "completed"
    },
    "tags": []
   },
   "outputs": [],
   "source": [
    "import pandas as pd\n",
    "import matplotlib.pyplot as plt\n",
    "import tensorflow as tf\n",
    "import nltk\n",
    "import sklearn\n",
    "\n",
    "\n",
    "from tensorflow import keras\n",
    "from keras.preprocessing.text import text_to_word_sequence\n",
    "from nltk.corpus import stopwords\n",
    "from nltk.stem import PorterStemmer\n",
    "from nltk.stem import WordNetLemmatizer\n",
    "from nltk.corpus import wordnet\n",
    "from sklearn.feature_extraction.text import TfidfVectorizer\n",
    "from sklearn.feature_extraction.text import TfidfTransformer\n",
    "from sklearn.feature_extraction.text import CountVectorizer\n",
    "from sklearn.model_selection import train_test_split\n",
    "from sklearn import svm\n",
    "from sklearn.naive_bayes import MultinomialNB\n",
    "from sklearn.naive_bayes import GaussianNB\n",
    "from sklearn.metrics import roc_auc_score\n",
    "from sklearn.pipeline import Pipeline\n",
    "from sklearn.metrics import classification_report\n",
    "from sklearn.metrics import accuracy_score\n",
    "from sklearn.tree import DecisionTreeClassifier\n",
    "from sklearn.ensemble import RandomForestClassifier\n"
   ]
  },
  {
   "cell_type": "code",
   "execution_count": 3,
   "metadata": {
    "execution": {
     "iopub.execute_input": "2021-08-30T20:10:45.121818Z",
     "iopub.status.busy": "2021-08-30T20:10:45.121185Z",
     "iopub.status.idle": "2021-08-30T20:10:45.283828Z",
     "shell.execute_reply": "2021-08-30T20:10:45.284378Z",
     "shell.execute_reply.started": "2021-08-30T20:07:26.885849Z"
    },
    "papermill": {
     "duration": 0.189891,
     "end_time": "2021-08-30T20:10:45.284545",
     "exception": false,
     "start_time": "2021-08-30T20:10:45.094654",
     "status": "completed"
    },
    "tags": []
   },
   "outputs": [],
   "source": [
    "dataset = pd.read_csv('../input/learn-ai-bbc/BBC News Train.csv')\n",
    "test_set = pd.read_csv(\"../input/learn-ai-bbc/BBC News Test.csv\")\n"
   ]
  },
  {
   "cell_type": "code",
   "execution_count": 4,
   "metadata": {
    "execution": {
     "iopub.execute_input": "2021-08-30T20:10:45.331700Z",
     "iopub.status.busy": "2021-08-30T20:10:45.331110Z",
     "iopub.status.idle": "2021-08-30T20:10:45.355885Z",
     "shell.execute_reply": "2021-08-30T20:10:45.356507Z",
     "shell.execute_reply.started": "2021-08-30T20:07:27.134045Z"
    },
    "papermill": {
     "duration": 0.049838,
     "end_time": "2021-08-30T20:10:45.356674",
     "exception": false,
     "start_time": "2021-08-30T20:10:45.306836",
     "status": "completed"
    },
    "tags": []
   },
   "outputs": [
    {
     "data": {
      "text/html": [
       "<div>\n",
       "<style scoped>\n",
       "    .dataframe tbody tr th:only-of-type {\n",
       "        vertical-align: middle;\n",
       "    }\n",
       "\n",
       "    .dataframe tbody tr th {\n",
       "        vertical-align: top;\n",
       "    }\n",
       "\n",
       "    .dataframe thead th {\n",
       "        text-align: right;\n",
       "    }\n",
       "</style>\n",
       "<table border=\"1\" class=\"dataframe\">\n",
       "  <thead>\n",
       "    <tr style=\"text-align: right;\">\n",
       "      <th></th>\n",
       "      <th>ArticleId</th>\n",
       "      <th>Text</th>\n",
       "      <th>Category</th>\n",
       "    </tr>\n",
       "  </thead>\n",
       "  <tbody>\n",
       "    <tr>\n",
       "      <th>0</th>\n",
       "      <td>1833</td>\n",
       "      <td>worldcom ex-boss launches defence lawyers defe...</td>\n",
       "      <td>business</td>\n",
       "    </tr>\n",
       "    <tr>\n",
       "      <th>1</th>\n",
       "      <td>154</td>\n",
       "      <td>german business confidence slides german busin...</td>\n",
       "      <td>business</td>\n",
       "    </tr>\n",
       "    <tr>\n",
       "      <th>2</th>\n",
       "      <td>1101</td>\n",
       "      <td>bbc poll indicates economic gloom citizens in ...</td>\n",
       "      <td>business</td>\n",
       "    </tr>\n",
       "    <tr>\n",
       "      <th>3</th>\n",
       "      <td>1976</td>\n",
       "      <td>lifestyle  governs mobile choice  faster  bett...</td>\n",
       "      <td>tech</td>\n",
       "    </tr>\n",
       "    <tr>\n",
       "      <th>4</th>\n",
       "      <td>917</td>\n",
       "      <td>enron bosses in $168m payout eighteen former e...</td>\n",
       "      <td>business</td>\n",
       "    </tr>\n",
       "  </tbody>\n",
       "</table>\n",
       "</div>"
      ],
      "text/plain": [
       "   ArticleId                                               Text  Category\n",
       "0       1833  worldcom ex-boss launches defence lawyers defe...  business\n",
       "1        154  german business confidence slides german busin...  business\n",
       "2       1101  bbc poll indicates economic gloom citizens in ...  business\n",
       "3       1976  lifestyle  governs mobile choice  faster  bett...      tech\n",
       "4        917  enron bosses in $168m payout eighteen former e...  business"
      ]
     },
     "execution_count": 4,
     "metadata": {},
     "output_type": "execute_result"
    }
   ],
   "source": [
    "dataset.head()"
   ]
  },
  {
   "cell_type": "code",
   "execution_count": 5,
   "metadata": {
    "execution": {
     "iopub.execute_input": "2021-08-30T20:10:45.403708Z",
     "iopub.status.busy": "2021-08-30T20:10:45.403100Z",
     "iopub.status.idle": "2021-08-30T20:10:45.413142Z",
     "shell.execute_reply": "2021-08-30T20:10:45.412496Z",
     "shell.execute_reply.started": "2021-08-30T20:07:27.163394Z"
    },
    "papermill": {
     "duration": 0.034667,
     "end_time": "2021-08-30T20:10:45.413275",
     "exception": false,
     "start_time": "2021-08-30T20:10:45.378608",
     "status": "completed"
    },
    "tags": []
   },
   "outputs": [
    {
     "name": "stdout",
     "output_type": "stream",
     "text": [
      "['business' 'tech' 'politics' 'sport' 'entertainment']\n"
     ]
    }
   ],
   "source": [
    "target_category = dataset['Category'].unique()\n",
    "print(target_category)"
   ]
  },
  {
   "cell_type": "code",
   "execution_count": 6,
   "metadata": {
    "execution": {
     "iopub.execute_input": "2021-08-30T20:10:45.461067Z",
     "iopub.status.busy": "2021-08-30T20:10:45.460436Z",
     "iopub.status.idle": "2021-08-30T20:10:45.472216Z",
     "shell.execute_reply": "2021-08-30T20:10:45.471688Z",
     "shell.execute_reply.started": "2021-08-30T20:07:27.174729Z"
    },
    "papermill": {
     "duration": 0.03672,
     "end_time": "2021-08-30T20:10:45.472347",
     "exception": false,
     "start_time": "2021-08-30T20:10:45.435627",
     "status": "completed"
    },
    "tags": []
   },
   "outputs": [
    {
     "data": {
      "text/html": [
       "<div>\n",
       "<style scoped>\n",
       "    .dataframe tbody tr th:only-of-type {\n",
       "        vertical-align: middle;\n",
       "    }\n",
       "\n",
       "    .dataframe tbody tr th {\n",
       "        vertical-align: top;\n",
       "    }\n",
       "\n",
       "    .dataframe thead th {\n",
       "        text-align: right;\n",
       "    }\n",
       "</style>\n",
       "<table border=\"1\" class=\"dataframe\">\n",
       "  <thead>\n",
       "    <tr style=\"text-align: right;\">\n",
       "      <th></th>\n",
       "      <th>ArticleId</th>\n",
       "      <th>Text</th>\n",
       "      <th>Category</th>\n",
       "      <th>categoryId</th>\n",
       "    </tr>\n",
       "  </thead>\n",
       "  <tbody>\n",
       "    <tr>\n",
       "      <th>0</th>\n",
       "      <td>1833</td>\n",
       "      <td>worldcom ex-boss launches defence lawyers defe...</td>\n",
       "      <td>business</td>\n",
       "      <td>0</td>\n",
       "    </tr>\n",
       "    <tr>\n",
       "      <th>1</th>\n",
       "      <td>154</td>\n",
       "      <td>german business confidence slides german busin...</td>\n",
       "      <td>business</td>\n",
       "      <td>0</td>\n",
       "    </tr>\n",
       "    <tr>\n",
       "      <th>2</th>\n",
       "      <td>1101</td>\n",
       "      <td>bbc poll indicates economic gloom citizens in ...</td>\n",
       "      <td>business</td>\n",
       "      <td>0</td>\n",
       "    </tr>\n",
       "    <tr>\n",
       "      <th>3</th>\n",
       "      <td>1976</td>\n",
       "      <td>lifestyle  governs mobile choice  faster  bett...</td>\n",
       "      <td>tech</td>\n",
       "      <td>1</td>\n",
       "    </tr>\n",
       "    <tr>\n",
       "      <th>4</th>\n",
       "      <td>917</td>\n",
       "      <td>enron bosses in $168m payout eighteen former e...</td>\n",
       "      <td>business</td>\n",
       "      <td>0</td>\n",
       "    </tr>\n",
       "  </tbody>\n",
       "</table>\n",
       "</div>"
      ],
      "text/plain": [
       "   ArticleId                                               Text  Category  \\\n",
       "0       1833  worldcom ex-boss launches defence lawyers defe...  business   \n",
       "1        154  german business confidence slides german busin...  business   \n",
       "2       1101  bbc poll indicates economic gloom citizens in ...  business   \n",
       "3       1976  lifestyle  governs mobile choice  faster  bett...      tech   \n",
       "4        917  enron bosses in $168m payout eighteen former e...  business   \n",
       "\n",
       "   categoryId  \n",
       "0           0  \n",
       "1           0  \n",
       "2           0  \n",
       "3           1  \n",
       "4           0  "
      ]
     },
     "execution_count": 6,
     "metadata": {},
     "output_type": "execute_result"
    }
   ],
   "source": [
    "dataset['categoryId'] = dataset['Category'].factorize()[0]\n",
    "dataset.head()"
   ]
  },
  {
   "cell_type": "code",
   "execution_count": 7,
   "metadata": {
    "execution": {
     "iopub.execute_input": "2021-08-30T20:10:45.521113Z",
     "iopub.status.busy": "2021-08-30T20:10:45.520489Z",
     "iopub.status.idle": "2021-08-30T20:10:45.537397Z",
     "shell.execute_reply": "2021-08-30T20:10:45.536745Z",
     "shell.execute_reply.started": "2021-08-30T20:07:27.197135Z"
    },
    "papermill": {
     "duration": 0.04264,
     "end_time": "2021-08-30T20:10:45.537533",
     "exception": false,
     "start_time": "2021-08-30T20:10:45.494893",
     "status": "completed"
    },
    "tags": []
   },
   "outputs": [
    {
     "data": {
      "text/html": [
       "<div>\n",
       "<style scoped>\n",
       "    .dataframe tbody tr th:only-of-type {\n",
       "        vertical-align: middle;\n",
       "    }\n",
       "\n",
       "    .dataframe tbody tr th {\n",
       "        vertical-align: top;\n",
       "    }\n",
       "\n",
       "    .dataframe thead th {\n",
       "        text-align: right;\n",
       "    }\n",
       "</style>\n",
       "<table border=\"1\" class=\"dataframe\">\n",
       "  <thead>\n",
       "    <tr style=\"text-align: right;\">\n",
       "      <th></th>\n",
       "      <th>Category</th>\n",
       "      <th>categoryId</th>\n",
       "    </tr>\n",
       "  </thead>\n",
       "  <tbody>\n",
       "    <tr>\n",
       "      <th>0</th>\n",
       "      <td>business</td>\n",
       "      <td>0</td>\n",
       "    </tr>\n",
       "    <tr>\n",
       "      <th>3</th>\n",
       "      <td>tech</td>\n",
       "      <td>1</td>\n",
       "    </tr>\n",
       "    <tr>\n",
       "      <th>5</th>\n",
       "      <td>politics</td>\n",
       "      <td>2</td>\n",
       "    </tr>\n",
       "    <tr>\n",
       "      <th>6</th>\n",
       "      <td>sport</td>\n",
       "      <td>3</td>\n",
       "    </tr>\n",
       "    <tr>\n",
       "      <th>7</th>\n",
       "      <td>entertainment</td>\n",
       "      <td>4</td>\n",
       "    </tr>\n",
       "  </tbody>\n",
       "</table>\n",
       "</div>"
      ],
      "text/plain": [
       "        Category  categoryId\n",
       "0       business           0\n",
       "3           tech           1\n",
       "5       politics           2\n",
       "6          sport           3\n",
       "7  entertainment           4"
      ]
     },
     "execution_count": 7,
     "metadata": {},
     "output_type": "execute_result"
    }
   ],
   "source": [
    "category = dataset[[\"Category\",\"categoryId\"]].drop_duplicates().sort_values('categoryId')\n",
    "category"
   ]
  },
  {
   "cell_type": "code",
   "execution_count": 8,
   "metadata": {
    "execution": {
     "iopub.execute_input": "2021-08-30T20:10:45.591799Z",
     "iopub.status.busy": "2021-08-30T20:10:45.590691Z",
     "iopub.status.idle": "2021-08-30T20:10:45.598436Z",
     "shell.execute_reply": "2021-08-30T20:10:45.597805Z",
     "shell.execute_reply.started": "2021-08-30T20:07:27.218887Z"
    },
    "papermill": {
     "duration": 0.037584,
     "end_time": "2021-08-30T20:10:45.598574",
     "exception": false,
     "start_time": "2021-08-30T20:10:45.560990",
     "status": "completed"
    },
    "tags": []
   },
   "outputs": [
    {
     "data": {
      "text/plain": [
       "Category\n",
       "business         336\n",
       "entertainment    273\n",
       "politics         274\n",
       "sport            346\n",
       "tech             261\n",
       "Name: categoryId, dtype: int64"
      ]
     },
     "execution_count": 8,
     "metadata": {},
     "output_type": "execute_result"
    }
   ],
   "source": [
    "dataset.groupby('Category').categoryId.count()"
   ]
  },
  {
   "cell_type": "markdown",
   "metadata": {
    "papermill": {
     "duration": 0.023434,
     "end_time": "2021-08-30T20:10:45.645970",
     "exception": false,
     "start_time": "2021-08-30T20:10:45.622536",
     "status": "completed"
    },
    "tags": []
   },
   "source": [
    "# Data Visualization"
   ]
  },
  {
   "cell_type": "code",
   "execution_count": 9,
   "metadata": {
    "execution": {
     "iopub.execute_input": "2021-08-30T20:10:45.695984Z",
     "iopub.status.busy": "2021-08-30T20:10:45.695374Z",
     "iopub.status.idle": "2021-08-30T20:10:45.911501Z",
     "shell.execute_reply": "2021-08-30T20:10:45.912028Z",
     "shell.execute_reply.started": "2021-08-30T20:07:27.230912Z"
    },
    "papermill": {
     "duration": 0.242651,
     "end_time": "2021-08-30T20:10:45.912200",
     "exception": false,
     "start_time": "2021-08-30T20:10:45.669549",
     "status": "completed"
    },
    "tags": []
   },
   "outputs": [
    {
     "data": {
      "text/plain": [
       "<AxesSubplot:xlabel='Category'>"
      ]
     },
     "execution_count": 9,
     "metadata": {},
     "output_type": "execute_result"
    },
    {
     "data": {
      "image/png": "[encoded data removed]",
      "text/plain": [
       "<Figure size 432x288 with 1 Axes>"
      ]
     },
     "metadata": {
      "needs_background": "light"
     },
     "output_type": "display_data"
    }
   ],
   "source": [
    "dataset.groupby('Category').categoryId.count().plot.bar(ylim=0)"
   ]
  },
  {
   "cell_type": "code",
   "execution_count": 10,
   "metadata": {
    "execution": {
     "iopub.execute_input": "2021-08-30T20:10:45.968742Z",
     "iopub.status.busy": "2021-08-30T20:10:45.968099Z",
     "iopub.status.idle": "2021-08-30T20:10:45.972083Z",
     "shell.execute_reply": "2021-08-30T20:10:45.971579Z",
     "shell.execute_reply.started": "2021-08-30T20:07:27.448773Z"
    },
    "papermill": {
     "duration": 0.035589,
     "end_time": "2021-08-30T20:10:45.972232",
     "exception": false,
     "start_time": "2021-08-30T20:10:45.936643",
     "status": "completed"
    },
    "tags": []
   },
   "outputs": [
    {
     "data": {
      "text/plain": [
       "0    worldcom ex-boss launches defence lawyers defe...\n",
       "1    german business confidence slides german busin...\n",
       "2    bbc poll indicates economic gloom citizens in ...\n",
       "3    lifestyle  governs mobile choice  faster  bett...\n",
       "4    enron bosses in $168m payout eighteen former e...\n",
       "Name: Text, dtype: object"
      ]
     },
     "execution_count": 10,
     "metadata": {},
     "output_type": "execute_result"
    }
   ],
   "source": [
    "text = dataset[\"Text\"] \n",
    "text.head()"
   ]
  },
  {
   "cell_type": "code",
   "execution_count": 11,
   "metadata": {
    "execution": {
     "iopub.execute_input": "2021-08-30T20:10:46.029750Z",
     "iopub.status.busy": "2021-08-30T20:10:46.029077Z",
     "iopub.status.idle": "2021-08-30T20:10:46.031663Z",
     "shell.execute_reply": "2021-08-30T20:10:46.032188Z",
     "shell.execute_reply.started": "2021-08-30T20:07:27.459368Z"
    },
    "papermill": {
     "duration": 0.034877,
     "end_time": "2021-08-30T20:10:46.032368",
     "exception": false,
     "start_time": "2021-08-30T20:10:45.997491",
     "status": "completed"
    },
    "tags": []
   },
   "outputs": [
    {
     "data": {
      "text/plain": [
       "0    business\n",
       "1    business\n",
       "2    business\n",
       "3        tech\n",
       "4    business\n",
       "Name: Category, dtype: object"
      ]
     },
     "execution_count": 11,
     "metadata": {},
     "output_type": "execute_result"
    }
   ],
   "source": [
    "category = dataset[\"Category\"]\n",
    "category.head()"
   ]
  },
  {
   "cell_type": "markdown",
   "metadata": {
    "papermill": {
     "duration": 0.025282,
     "end_time": "2021-08-30T20:10:46.083375",
     "exception": false,
     "start_time": "2021-08-30T20:10:46.058093",
     "status": "completed"
    },
    "tags": []
   },
   "source": [
    "# Data Preprocessing"
   ]
  },
  {
   "cell_type": "code",
   "execution_count": 12,
   "metadata": {
    "execution": {
     "iopub.execute_input": "2021-08-30T20:10:46.137848Z",
     "iopub.status.busy": "2021-08-30T20:10:46.137193Z",
     "iopub.status.idle": "2021-08-30T20:10:46.147119Z",
     "shell.execute_reply": "2021-08-30T20:10:46.147599Z",
     "shell.execute_reply.started": "2021-08-30T20:07:27.475217Z"
    },
    "papermill": {
     "duration": 0.03872,
     "end_time": "2021-08-30T20:10:46.147782",
     "exception": false,
     "start_time": "2021-08-30T20:10:46.109062",
     "status": "completed"
    },
    "tags": []
   },
   "outputs": [],
   "source": [
    "def preprocessDataset(train_text):\n",
    "       \n",
    "    #word tokenization using text-to-word-sequence\n",
    "    train_text= str(train_text)\n",
    "    tokenized_train_set = text_to_word_sequence(train_text,filters='!\"#$%&()*+,-./:;<=>?@[\\\\]^_`{|}~\\t\\n',lower=True,split=\" \")\n",
    "        \n",
    "    #stop word removal\n",
    "    stop_words = set(stopwords.words('english'))\n",
    "    stopwordremove = [i for i in tokenized_train_set if not i in stop_words]\n",
    "        \n",
    "     \n",
    "    #join words into sentence\n",
    "    stopwordremove_text = ' '.join(stopwordremove)\n",
    "        \n",
    "        \n",
    "    #remove numbers\n",
    "    numberremove_text = ''.join(c for c in stopwordremove_text if not c.isdigit())\n",
    "       \n",
    "        \n",
    "    #--Stemming--\n",
    "    stemmer= PorterStemmer()\n",
    "\n",
    "    stem_input=nltk.word_tokenize(numberremove_text)\n",
    "    stem_text=' '.join([stemmer.stem(word) for word in stem_input])\n",
    "        \n",
    "        \n",
    "    lemmatizer = WordNetLemmatizer()\n",
    "\n",
    "    def get_wordnet_pos(word):\n",
    "        \"\"\"Map POS tag to first character lemmatize() accepts\"\"\"\n",
    "        tag = nltk.pos_tag([word])[0][1][0].upper()\n",
    "        tag_dict = {\"J\": wordnet.ADJ,\n",
    "                \"N\": wordnet.NOUN,\n",
    "                \"V\": wordnet.VERB,\n",
    "                \"R\": wordnet.ADV}\n",
    "\n",
    "        return tag_dict.get(tag, wordnet.NOUN)\n",
    "\n",
    "    lem_input = nltk.word_tokenize(stem_text)\n",
    "    lem_text= ' '.join([lemmatizer.lemmatize(w, get_wordnet_pos(w)) for w in lem_input])\n",
    "        \n",
    "    return lem_text\n",
    "\n"
   ]
  },
  {
   "cell_type": "code",
   "execution_count": 13,
   "metadata": {
    "execution": {
     "iopub.execute_input": "2021-08-30T20:10:46.201755Z",
     "iopub.status.busy": "2021-08-30T20:10:46.201129Z",
     "iopub.status.idle": "2021-08-30T20:12:04.104777Z",
     "shell.execute_reply": "2021-08-30T20:12:04.105314Z",
     "shell.execute_reply.started": "2021-08-30T20:07:27.491470Z"
    },
    "papermill": {
     "duration": 77.93216,
     "end_time": "2021-08-30T20:12:04.105488",
     "exception": false,
     "start_time": "2021-08-30T20:10:46.173328",
     "status": "completed"
    },
    "tags": []
   },
   "outputs": [
    {
     "data": {
      "text/plain": [
       "0    worldcom ex bos launch defenc lawyer defend fo...\n",
       "1    german busi confid slide german busi confid fe...\n",
       "2    bbc poll indic econom gloom citizen major nati...\n",
       "3    lifestyl govern mobil choic faster well funkie...\n",
       "4    enron bos m payout eighteen former enron direc...\n",
       "Name: Text, dtype: object"
      ]
     },
     "execution_count": 13,
     "metadata": {},
     "output_type": "execute_result"
    }
   ],
   "source": [
    "dataset['Text'] = dataset['Text'].apply(preprocessDataset)\n",
    "text = dataset['Text']\n",
    "category = dataset['Category']\n",
    "text.head()"
   ]
  },
  {
   "cell_type": "markdown",
   "metadata": {
    "papermill": {
     "duration": 0.025208,
     "end_time": "2021-08-30T20:12:04.156201",
     "exception": false,
     "start_time": "2021-08-30T20:12:04.130993",
     "status": "completed"
    },
    "tags": []
   },
   "source": [
    "# Split train set"
   ]
  },
  {
   "cell_type": "code",
   "execution_count": 14,
   "metadata": {
    "execution": {
     "iopub.execute_input": "2021-08-30T20:12:04.214573Z",
     "iopub.status.busy": "2021-08-30T20:12:04.213840Z",
     "iopub.status.idle": "2021-08-30T20:12:04.221521Z",
     "shell.execute_reply": "2021-08-30T20:12:04.220809Z",
     "shell.execute_reply.started": "2021-08-30T20:08:44.391982Z"
    },
    "papermill": {
     "duration": 0.040014,
     "end_time": "2021-08-30T20:12:04.221670",
     "exception": false,
     "start_time": "2021-08-30T20:12:04.181656",
     "status": "completed"
    },
    "tags": []
   },
   "outputs": [
    {
     "name": "stdout",
     "output_type": "stream",
     "text": [
      "1043\n",
      "447\n"
     ]
    }
   ],
   "source": [
    "X_train, X_test, Y_train, Y_test = train_test_split(text,category, test_size = 0.3, random_state = 60,shuffle=True, stratify=category)\n",
    "\n",
    "print(len(X_train))\n",
    "print(len(X_test))"
   ]
  },
  {
   "cell_type": "markdown",
   "metadata": {
    "papermill": {
     "duration": 0.025581,
     "end_time": "2021-08-30T20:12:04.273395",
     "exception": false,
     "start_time": "2021-08-30T20:12:04.247814",
     "status": "completed"
    },
    "tags": []
   },
   "source": [
    "# Multinomial Naive Bayes"
   ]
  },
  {
   "cell_type": "code",
   "execution_count": 15,
   "metadata": {
    "execution": {
     "iopub.execute_input": "2021-08-30T20:12:04.343999Z",
     "iopub.status.busy": "2021-08-30T20:12:04.338743Z",
     "iopub.status.idle": "2021-08-30T20:12:05.039855Z",
     "shell.execute_reply": "2021-08-30T20:12:05.040654Z",
     "shell.execute_reply.started": "2021-08-30T20:08:44.403855Z"
    },
    "papermill": {
     "duration": 0.741476,
     "end_time": "2021-08-30T20:12:05.040829",
     "exception": false,
     "start_time": "2021-08-30T20:12:04.299353",
     "status": "completed"
    },
    "tags": []
   },
   "outputs": [
    {
     "name": "stdout",
     "output_type": "stream",
     "text": [
      "Naive Bayes Train Accuracy Score : 99% \n",
      "Naive Bayes Test Accuracy Score  : 96% \n",
      "\n",
      "               precision    recall  f1-score   support\n",
      "\n",
      "     business       0.98      0.94      0.96       105\n",
      "         tech       0.93      1.00      0.96        76\n",
      "     politics       0.93      0.94      0.93        81\n",
      "        sport       1.00      0.98      0.99       106\n",
      "entertainment       0.96      0.95      0.96        79\n",
      "\n",
      "     accuracy                           0.96       447\n",
      "    macro avg       0.96      0.96      0.96       447\n",
      " weighted avg       0.96      0.96      0.96       447\n",
      "\n"
     ]
    }
   ],
   "source": [
    "nb = Pipeline([('tfidf', TfidfVectorizer()),\n",
    "               ('clf', MultinomialNB()),\n",
    "              ])\n",
    "nb.fit(X_train,Y_train)\n",
    "\n",
    "test_predict = nb.predict(X_test)\n",
    "\n",
    "train_accuracy = round(nb.score(X_train,Y_train)*100)\n",
    "test_accuracy =round(accuracy_score(test_predict, Y_test)*100)\n",
    "\n",
    "\n",
    "print(\"Naive Bayes Train Accuracy Score : {}% \".format(train_accuracy ))\n",
    "print(\"Naive Bayes Test Accuracy Score  : {}% \".format(test_accuracy ))\n",
    "print()\n",
    "print(classification_report(test_predict, Y_test, target_names=target_category))\n"
   ]
  },
  {
   "cell_type": "markdown",
   "metadata": {
    "papermill": {
     "duration": 0.025674,
     "end_time": "2021-08-30T20:12:05.092781",
     "exception": false,
     "start_time": "2021-08-30T20:12:05.067107",
     "status": "completed"
    },
    "tags": []
   },
   "source": [
    "# Decision Tree"
   ]
  },
  {
   "cell_type": "code",
   "execution_count": 16,
   "metadata": {
    "execution": {
     "iopub.execute_input": "2021-08-30T20:12:05.195602Z",
     "iopub.status.busy": "2021-08-30T20:12:05.185051Z",
     "iopub.status.idle": "2021-08-30T20:12:06.092046Z",
     "shell.execute_reply": "2021-08-30T20:12:06.093033Z",
     "shell.execute_reply.started": "2021-08-30T20:08:45.140558Z"
    },
    "papermill": {
     "duration": 0.974119,
     "end_time": "2021-08-30T20:12:06.093265",
     "exception": false,
     "start_time": "2021-08-30T20:12:05.119146",
     "status": "completed"
    },
    "tags": []
   },
   "outputs": [
    {
     "name": "stdout",
     "output_type": "stream",
     "text": [
      "Decision Tree Train Accuracy Score : 100% \n",
      "Decision Tree Test Accuracy Score  : 80% \n",
      "\n",
      "               precision    recall  f1-score   support\n",
      "\n",
      "     business       0.73      0.83      0.78        89\n",
      "         tech       0.67      0.89      0.76        62\n",
      "     politics       0.79      0.77      0.78        84\n",
      "        sport       0.95      0.77      0.85       129\n",
      "entertainment       0.81      0.76      0.78        83\n",
      "\n",
      "     accuracy                           0.80       447\n",
      "    macro avg       0.79      0.80      0.79       447\n",
      " weighted avg       0.81      0.80      0.80       447\n",
      "\n"
     ]
    }
   ],
   "source": [
    "dt = Pipeline([('tfidf', TfidfVectorizer()),\n",
    "                ('dt', DecisionTreeClassifier()),\n",
    "               ])\n",
    "\n",
    "dt.fit(X_train, Y_train)\n",
    "\n",
    "test_predict = dt.predict(X_test)\n",
    "\n",
    "train_accuracy = round(dt.score(X_train,Y_train)*100)\n",
    "test_accuracy =round(accuracy_score(test_predict, Y_test)*100)\n",
    "\n",
    "print(\"Decision Tree Train Accuracy Score : {}% \".format(train_accuracy ))\n",
    "print(\"Decision Tree Test Accuracy Score  : {}% \".format(test_accuracy ))\n",
    "print()\n",
    "print(classification_report(test_predict, Y_test, target_names=target_category))"
   ]
  },
  {
   "cell_type": "markdown",
   "metadata": {
    "papermill": {
     "duration": 0.026525,
     "end_time": "2021-08-30T20:12:06.146545",
     "exception": false,
     "start_time": "2021-08-30T20:12:06.120020",
     "status": "completed"
    },
    "tags": []
   },
   "source": [
    "# Random Forest Classifier"
   ]
  },
  {
   "cell_type": "code",
   "execution_count": 17,
   "metadata": {
    "execution": {
     "iopub.execute_input": "2021-08-30T20:12:06.246895Z",
     "iopub.status.busy": "2021-08-30T20:12:06.241563Z",
     "iopub.status.idle": "2021-08-30T20:12:07.843261Z",
     "shell.execute_reply": "2021-08-30T20:12:07.842325Z",
     "shell.execute_reply.started": "2021-08-30T20:08:46.070078Z"
    },
    "papermill": {
     "duration": 1.669867,
     "end_time": "2021-08-30T20:12:07.843455",
     "exception": false,
     "start_time": "2021-08-30T20:12:06.173588",
     "status": "completed"
    },
    "tags": []
   },
   "outputs": [
    {
     "name": "stdout",
     "output_type": "stream",
     "text": [
      "K-Nearest Neighbour Train Accuracy Score : 100% \n",
      "K-Nearest Neighbour Test Accuracy Score  : 95% \n",
      "\n",
      "               precision    recall  f1-score   support\n",
      "\n",
      "     business       0.97      0.94      0.96       104\n",
      "         tech       0.93      1.00      0.96        76\n",
      "     politics       0.93      0.93      0.93        82\n",
      "        sport       0.99      0.94      0.96       110\n",
      "entertainment       0.94      0.97      0.95        75\n",
      "\n",
      "     accuracy                           0.95       447\n",
      "    macro avg       0.95      0.96      0.95       447\n",
      " weighted avg       0.95      0.95      0.95       447\n",
      "\n"
     ]
    }
   ],
   "source": [
    "rfc = Pipeline([('tfidf', TfidfVectorizer()),\n",
    "                ('rfc', RandomForestClassifier(n_estimators=100)),\n",
    "               ])\n",
    "\n",
    "rfc.fit(X_train, Y_train)\n",
    "\n",
    "test_predict = rfc.predict(X_test)\n",
    "\n",
    "train_accuracy = round(rfc.score(X_train,Y_train)*100)\n",
    "test_accuracy =round(accuracy_score(test_predict, Y_test)*100)\n",
    "\n",
    "print(\"K-Nearest Neighbour Train Accuracy Score : {}% \".format(train_accuracy ))\n",
    "print(\"K-Nearest Neighbour Test Accuracy Score  : {}% \".format(test_accuracy ))\n",
    "print()\n",
    "print(classification_report(test_predict, Y_test, target_names=target_category))"
   ]
  },
  {
   "cell_type": "markdown",
   "metadata": {
    "papermill": {
     "duration": 0.026612,
     "end_time": "2021-08-30T20:12:07.897566",
     "exception": false,
     "start_time": "2021-08-30T20:12:07.870954",
     "status": "completed"
    },
    "tags": []
   },
   "source": [
    "# Test Set"
   ]
  },
  {
   "cell_type": "code",
   "execution_count": 18,
   "metadata": {
    "execution": {
     "iopub.execute_input": "2021-08-30T20:12:07.961598Z",
     "iopub.status.busy": "2021-08-30T20:12:07.960663Z",
     "iopub.status.idle": "2021-08-30T20:12:07.965030Z",
     "shell.execute_reply": "2021-08-30T20:12:07.964402Z",
     "shell.execute_reply.started": "2021-08-30T20:08:47.616622Z"
    },
    "papermill": {
     "duration": 0.040445,
     "end_time": "2021-08-30T20:12:07.965166",
     "exception": false,
     "start_time": "2021-08-30T20:12:07.924721",
     "status": "completed"
    },
    "tags": []
   },
   "outputs": [
    {
     "data": {
      "text/html": [
       "<div>\n",
       "<style scoped>\n",
       "    .dataframe tbody tr th:only-of-type {\n",
       "        vertical-align: middle;\n",
       "    }\n",
       "\n",
       "    .dataframe tbody tr th {\n",
       "        vertical-align: top;\n",
       "    }\n",
       "\n",
       "    .dataframe thead th {\n",
       "        text-align: right;\n",
       "    }\n",
       "</style>\n",
       "<table border=\"1\" class=\"dataframe\">\n",
       "  <thead>\n",
       "    <tr style=\"text-align: right;\">\n",
       "      <th></th>\n",
       "      <th>ArticleId</th>\n",
       "      <th>Text</th>\n",
       "    </tr>\n",
       "  </thead>\n",
       "  <tbody>\n",
       "    <tr>\n",
       "      <th>0</th>\n",
       "      <td>1018</td>\n",
       "      <td>qpr keeper day heads for preston queens park r...</td>\n",
       "    </tr>\n",
       "    <tr>\n",
       "      <th>1</th>\n",
       "      <td>1319</td>\n",
       "      <td>software watching while you work software that...</td>\n",
       "    </tr>\n",
       "    <tr>\n",
       "      <th>2</th>\n",
       "      <td>1138</td>\n",
       "      <td>d arcy injury adds to ireland woe gordon d arc...</td>\n",
       "    </tr>\n",
       "    <tr>\n",
       "      <th>3</th>\n",
       "      <td>459</td>\n",
       "      <td>india s reliance family feud heats up the ongo...</td>\n",
       "    </tr>\n",
       "    <tr>\n",
       "      <th>4</th>\n",
       "      <td>1020</td>\n",
       "      <td>boro suffer morrison injury blow middlesbrough...</td>\n",
       "    </tr>\n",
       "  </tbody>\n",
       "</table>\n",
       "</div>"
      ],
      "text/plain": [
       "   ArticleId                                               Text\n",
       "0       1018  qpr keeper day heads for preston queens park r...\n",
       "1       1319  software watching while you work software that...\n",
       "2       1138  d arcy injury adds to ireland woe gordon d arc...\n",
       "3        459  india s reliance family feud heats up the ongo...\n",
       "4       1020  boro suffer morrison injury blow middlesbrough..."
      ]
     },
     "execution_count": 18,
     "metadata": {},
     "output_type": "execute_result"
    }
   ],
   "source": [
    "test_set.head()"
   ]
  },
  {
   "cell_type": "markdown",
   "metadata": {
    "papermill": {
     "duration": 0.02765,
     "end_time": "2021-08-30T20:12:08.020634",
     "exception": false,
     "start_time": "2021-08-30T20:12:07.992984",
     "status": "completed"
    },
    "tags": []
   },
   "source": [
    "# Train with Naive Bayes"
   ]
  },
  {
   "cell_type": "code",
   "execution_count": 19,
   "metadata": {
    "execution": {
     "iopub.execute_input": "2021-08-30T20:12:08.086637Z",
     "iopub.status.busy": "2021-08-30T20:12:08.081612Z",
     "iopub.status.idle": "2021-08-30T20:12:46.848226Z",
     "shell.execute_reply": "2021-08-30T20:12:46.847674Z",
     "shell.execute_reply.started": "2021-08-30T20:08:47.628059Z"
    },
    "papermill": {
     "duration": 38.799705,
     "end_time": "2021-08-30T20:12:46.848386",
     "exception": false,
     "start_time": "2021-08-30T20:12:08.048681",
     "status": "completed"
    },
    "tags": []
   },
   "outputs": [],
   "source": [
    "test_set['Text'] = test_set['Text'].apply(preprocessDataset)\n",
    "\n",
    "test_id = test_set['ArticleId']\n",
    "test_text = test_set['Text']\n",
    "y_prdict = nb.predict(test_text)\n",
    "\n"
   ]
  },
  {
   "cell_type": "code",
   "execution_count": 20,
   "metadata": {
    "execution": {
     "iopub.execute_input": "2021-08-30T20:12:46.918243Z",
     "iopub.status.busy": "2021-08-30T20:12:46.917279Z",
     "iopub.status.idle": "2021-08-30T20:12:46.921630Z",
     "shell.execute_reply": "2021-08-30T20:12:46.921125Z",
     "shell.execute_reply.started": "2021-08-30T20:09:25.927946Z"
    },
    "papermill": {
     "duration": 0.045769,
     "end_time": "2021-08-30T20:12:46.921759",
     "exception": false,
     "start_time": "2021-08-30T20:12:46.875990",
     "status": "completed"
    },
    "tags": []
   },
   "outputs": [
    {
     "data": {
      "text/html": [
       "<div>\n",
       "<style scoped>\n",
       "    .dataframe tbody tr th:only-of-type {\n",
       "        vertical-align: middle;\n",
       "    }\n",
       "\n",
       "    .dataframe tbody tr th {\n",
       "        vertical-align: top;\n",
       "    }\n",
       "\n",
       "    .dataframe thead th {\n",
       "        text-align: right;\n",
       "    }\n",
       "</style>\n",
       "<table border=\"1\" class=\"dataframe\">\n",
       "  <thead>\n",
       "    <tr style=\"text-align: right;\">\n",
       "      <th></th>\n",
       "      <th>ArticleId</th>\n",
       "      <th>Category</th>\n",
       "    </tr>\n",
       "  </thead>\n",
       "  <tbody>\n",
       "    <tr>\n",
       "      <th>0</th>\n",
       "      <td>1018</td>\n",
       "      <td>sport</td>\n",
       "    </tr>\n",
       "    <tr>\n",
       "      <th>1</th>\n",
       "      <td>1319</td>\n",
       "      <td>tech</td>\n",
       "    </tr>\n",
       "    <tr>\n",
       "      <th>2</th>\n",
       "      <td>1138</td>\n",
       "      <td>sport</td>\n",
       "    </tr>\n",
       "    <tr>\n",
       "      <th>3</th>\n",
       "      <td>459</td>\n",
       "      <td>business</td>\n",
       "    </tr>\n",
       "    <tr>\n",
       "      <th>4</th>\n",
       "      <td>1020</td>\n",
       "      <td>sport</td>\n",
       "    </tr>\n",
       "    <tr>\n",
       "      <th>5</th>\n",
       "      <td>51</td>\n",
       "      <td>sport</td>\n",
       "    </tr>\n",
       "    <tr>\n",
       "      <th>6</th>\n",
       "      <td>2025</td>\n",
       "      <td>politics</td>\n",
       "    </tr>\n",
       "    <tr>\n",
       "      <th>7</th>\n",
       "      <td>1479</td>\n",
       "      <td>politics</td>\n",
       "    </tr>\n",
       "    <tr>\n",
       "      <th>8</th>\n",
       "      <td>27</td>\n",
       "      <td>entertainment</td>\n",
       "    </tr>\n",
       "    <tr>\n",
       "      <th>9</th>\n",
       "      <td>397</td>\n",
       "      <td>business</td>\n",
       "    </tr>\n",
       "    <tr>\n",
       "      <th>10</th>\n",
       "      <td>1644</td>\n",
       "      <td>business</td>\n",
       "    </tr>\n",
       "    <tr>\n",
       "      <th>11</th>\n",
       "      <td>263</td>\n",
       "      <td>tech</td>\n",
       "    </tr>\n",
       "    <tr>\n",
       "      <th>12</th>\n",
       "      <td>765</td>\n",
       "      <td>politics</td>\n",
       "    </tr>\n",
       "    <tr>\n",
       "      <th>13</th>\n",
       "      <td>2134</td>\n",
       "      <td>tech</td>\n",
       "    </tr>\n",
       "    <tr>\n",
       "      <th>14</th>\n",
       "      <td>297</td>\n",
       "      <td>entertainment</td>\n",
       "    </tr>\n",
       "    <tr>\n",
       "      <th>15</th>\n",
       "      <td>1712</td>\n",
       "      <td>sport</td>\n",
       "    </tr>\n",
       "    <tr>\n",
       "      <th>16</th>\n",
       "      <td>1631</td>\n",
       "      <td>politics</td>\n",
       "    </tr>\n",
       "    <tr>\n",
       "      <th>17</th>\n",
       "      <td>942</td>\n",
       "      <td>tech</td>\n",
       "    </tr>\n",
       "    <tr>\n",
       "      <th>18</th>\n",
       "      <td>1549</td>\n",
       "      <td>entertainment</td>\n",
       "    </tr>\n",
       "    <tr>\n",
       "      <th>19</th>\n",
       "      <td>516</td>\n",
       "      <td>politics</td>\n",
       "    </tr>\n",
       "  </tbody>\n",
       "</table>\n",
       "</div>"
      ],
      "text/plain": [
       "    ArticleId       Category\n",
       "0        1018          sport\n",
       "1        1319           tech\n",
       "2        1138          sport\n",
       "3         459       business\n",
       "4        1020          sport\n",
       "5          51          sport\n",
       "6        2025       politics\n",
       "7        1479       politics\n",
       "8          27  entertainment\n",
       "9         397       business\n",
       "10       1644       business\n",
       "11        263           tech\n",
       "12        765       politics\n",
       "13       2134           tech\n",
       "14        297  entertainment\n",
       "15       1712          sport\n",
       "16       1631       politics\n",
       "17        942           tech\n",
       "18       1549  entertainment\n",
       "19        516       politics"
      ]
     },
     "execution_count": 20,
     "metadata": {},
     "output_type": "execute_result"
    }
   ],
   "source": [
    "#submission = pd.DataFrame(test_id)\n",
    "submission = pd.DataFrame(list(zip(test_id, y_prdict)),\n",
    "               columns =['ArticleId', 'Category'])\n",
    "submission.head(20)"
   ]
  },
  {
   "cell_type": "code",
   "execution_count": 21,
   "metadata": {
    "execution": {
     "iopub.execute_input": "2021-08-30T20:12:46.982627Z",
     "iopub.status.busy": "2021-08-30T20:12:46.982023Z",
     "iopub.status.idle": "2021-08-30T20:12:46.988445Z",
     "shell.execute_reply": "2021-08-30T20:12:46.988963Z",
     "shell.execute_reply.started": "2021-08-30T20:09:25.946088Z"
    },
    "papermill": {
     "duration": 0.039603,
     "end_time": "2021-08-30T20:12:46.989118",
     "exception": false,
     "start_time": "2021-08-30T20:12:46.949515",
     "status": "completed"
    },
    "tags": []
   },
   "outputs": [],
   "source": [
    "submission.to_csv('submission.csv', index=False)"
   ]
  }
 ],
 "metadata": {
  "kernelspec": {
   "display_name": "Python 3",
   "language": "python",
   "name": "python3"
  },
  "language_info": {
   "codemirror_mode": {
    "name": "ipython",
    "version": 3
   },
   "file_extension": ".py",
   "mimetype": "text/x-python",
   "name": "python",
   "nbconvert_exporter": "python",
   "pygments_lexer": "ipython3",
   "version": "3.7.6"
  },
  "papermill": {
   "default_parameters": {},
   "duration": 139.806148,
   "end_time": "2021-08-30T20:12:49.035746",
   "environment_variables": {},
   "exception": null,
   "input_path": "__notebook__.ipynb",
   "output_path": "__notebook__.ipynb",
   "parameters": {},
   "start_time": "2021-08-30T20:10:29.229598",
   "version": "2.3.3"
  }
 },
 "nbformat": 4,
 "nbformat_minor": 5
}
